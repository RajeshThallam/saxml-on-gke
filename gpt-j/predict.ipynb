{
 "cells": [
  {
   "cell_type": "markdown",
   "metadata": {},
   "source": [
    "# Invoking predictions on GPT-J"
   ]
  },
  {
   "cell_type": "code",
   "execution_count": 1,
   "metadata": {},
   "outputs": [],
   "source": [
    "from transformers import GPT2Tokenizer"
   ]
  },
  {
   "cell_type": "code",
   "execution_count": 2,
   "metadata": {},
   "outputs": [],
   "source": [
    "TEXT = (\"Below is an instruction that describes a task, paired with \"\n",
    "\"an input that provides further context. Write a response that \"\n",
    "\"appropriately completes the request.\\n\\n### Instruction\\:\\nSummarize the \"\n",
    "\"following news article\\:\\n\\n### Input\\:\\nMarch 10, 2015 . We're truly \"\n",
    "\"international in scope on Tuesday. We're visiting Italy, Russia, the \"\n",
    "\"United Arab Emirates, and the Himalayan Mountains. Find out who's \"\n",
    "\"attempting to circumnavigate the globe in a plane powered partially by the \"\n",
    "\"sun, and explore the mysterious appearance of craters in northern Asia. \"\n",
    "\"You'll also get a view of Mount Everest that was previously reserved for \"\n",
    "\"climbers. On this page you will find today's show Transcript and a place \"\n",
    "\"for you to request to be on the CNN Student News Roll Call. TRANSCRIPT . \"\n",
    "\"Click here to access the transcript of today's CNN Student News program. \"\n",
    "\"Please note that there may be a delay between the time when the video is \"\n",
    "\"available and when the transcript is published. CNN Student News is \"\n",
    "\"created by a team of journalists who consider the Common Core State \"\n",
    "\"Standards, national standards in different subject areas, and state \"\n",
    "\"standards when producing the show. ROLL CALL . For a chance to be \"\n",
    "\"mentioned on the next CNN Student News, comment on the bottom of this page \"\n",
    "\"with your school name, mascot, city and state. We will be selecting \"\n",
    "\"schools from the comments of the previous show. You must be a teacher or a \"\n",
    "\"student age 13 or older to request a mention on the CNN Student News Roll \"\n",
    "\"Call! Thank you for using CNN Student News!\\n\\n### Response\\:\")"
   ]
  },
  {
   "cell_type": "code",
   "execution_count": 4,
   "metadata": {},
   "outputs": [
    {
     "data": {
      "application/vnd.jupyter.widget-view+json": {
       "model_id": "8250dc1988df44509e46a4fc3092e52a",
       "version_major": 2,
       "version_minor": 0
      },
      "text/plain": [
       "Downloading (…)okenizer_config.json:   0%|          | 0.00/619 [00:00<?, ?B/s]"
      ]
     },
     "metadata": {},
     "output_type": "display_data"
    },
    {
     "data": {
      "application/vnd.jupyter.widget-view+json": {
       "model_id": "921f63d2c3054041a002300c474321b3",
       "version_major": 2,
       "version_minor": 0
      },
      "text/plain": [
       "Downloading (…)olve/main/vocab.json:   0%|          | 0.00/798k [00:00<?, ?B/s]"
      ]
     },
     "metadata": {},
     "output_type": "display_data"
    },
    {
     "data": {
      "application/vnd.jupyter.widget-view+json": {
       "model_id": "a910a69c50de4121b1a6ea1c3d52b8b5",
       "version_major": 2,
       "version_minor": 0
      },
      "text/plain": [
       "Downloading (…)olve/main/merges.txt:   0%|          | 0.00/456k [00:00<?, ?B/s]"
      ]
     },
     "metadata": {},
     "output_type": "display_data"
    },
    {
     "data": {
      "application/vnd.jupyter.widget-view+json": {
       "model_id": "c22bdd065bd44cfd92f2d371db39e40e",
       "version_major": 2,
       "version_minor": 0
      },
      "text/plain": [
       "Downloading (…)in/added_tokens.json:   0%|          | 0.00/4.04k [00:00<?, ?B/s]"
      ]
     },
     "metadata": {},
     "output_type": "display_data"
    },
    {
     "data": {
      "application/vnd.jupyter.widget-view+json": {
       "model_id": "608e511eeac34c2287bef7993507e295",
       "version_major": 2,
       "version_minor": 0
      },
      "text/plain": [
       "Downloading (…)cial_tokens_map.json:   0%|          | 0.00/357 [00:00<?, ?B/s]"
      ]
     },
     "metadata": {},
     "output_type": "display_data"
    },
    {
     "data": {
      "application/vnd.jupyter.widget-view+json": {
       "model_id": "2e735111101c45c0833ec5c37ca65e78",
       "version_major": 2,
       "version_minor": 0
      },
      "text/plain": [
       "Downloading (…)/main/tokenizer.json:   0%|          | 0.00/1.37M [00:00<?, ?B/s]"
      ]
     },
     "metadata": {},
     "output_type": "display_data"
    }
   ],
   "source": [
    "from transformers import GPT2Tokenizer\n",
    "tokenizer = GPT2Tokenizer.from_pretrained('EleutherAI/gpt-j-6b')"
   ]
  },
  {
   "cell_type": "code",
   "execution_count": 5,
   "metadata": {},
   "outputs": [],
   "source": [
    "encoded_example = tokenizer(TEXT)\n",
    "input_ids = encoded_example.input_ids\n",
    "INPUT_STR = \",\".join([str(input_id) for input_id in input_ids])"
   ]
  },
  {
   "cell_type": "code",
   "execution_count": 6,
   "metadata": {},
   "outputs": [
    {
     "name": "stdout",
     "output_type": "stream",
     "text": [
      "21106,318,281,12064,326,8477,257,4876,11,20312,351,281,5128,326,3769,2252,4732,13,19430,257,2882,326,20431,32543,262,2581,13,198,198,21017,46486,59,25,198,13065,3876,1096,262,1708,1705,2708,59,25,198,198,21017,23412,59,25,198,16192,838,11,1853,764,775,821,4988,3230,287,8354,319,3431,13,775,821,10013,8031,11,3284,11,262,1578,4498,24880,11,290,262,42438,22931,21124,13,9938,503,508,338,9361,284,2498,4182,615,10055,262,13342,287,257,6614,13232,12387,416,262,4252,11,290,7301,262,11428,5585,286,1067,8605,287,7840,7229,13,921,1183,635,651,257,1570,286,5628,41336,326,373,4271,10395,329,39311,13,1550,428,2443,345,481,1064,1909,338,905,42978,290,257,1295,329,345,284,2581,284,307,319,262,8100,13613,3000,8299,4889,13,48213,6173,46023,764,6914,994,284,1895,262,14687,286,1909,338,8100,13613,3000,1430,13,4222,3465,326,612,743,307,257,5711,1022,262,640,618,262,2008,318,1695,290,618,262,14687,318,3199,13,8100,13613,3000,318,2727,416,257,1074,286,9046,508,2074,262,8070,7231,1812,20130,11,2260,5423,287,1180,2426,3006,11,290,1181,5423,618,9194,262,905,13,15107,3069,42815,764,1114,257,2863,284,307,4750,319,262,1306,8100,13613,3000,11,2912,319,262,4220,286,428,2443,351,534,1524,1438,11,37358,11,1748,290,1181,13,775,481,307,17246,4266,422,262,3651,286,262,2180,905,13,921,1276,307,257,4701,393,257,3710,2479,1511,393,4697,284,2581,257,3068,319,262,8100,13613,3000,8299,4889,0,6952,345,329,1262,8100,13613,3000,0,198,198,21017,18261,59,25\n"
     ]
    }
   ],
   "source": [
    "print(INPUT_STR)"
   ]
  },
  {
   "cell_type": "code",
   "execution_count": 20,
   "metadata": {},
   "outputs": [],
   "source": [
    "! echo {INPUT_STR} > input.txt"
   ]
  },
  {
   "cell_type": "code",
   "execution_count": 15,
   "metadata": {},
   "outputs": [],
   "source": [
    "SAX_ADMIN_SERVER_IMAGE_NAME=\"us-docker.pkg.dev/cloud-tpu-images/inference/sax-admin-server\"\n",
    "SAX_MODEL_SERVER_IMAGE_NAME=\"us-docker.pkg.dev/cloud-tpu-images/inference/sax-model-server\"\n",
    "SAX_UTIL_IMAGE_NAME=\"us-docker.pkg.dev/cloud-tpu-images/inference/sax-util\"\n",
    "SAX_VERSION=\"v1.0.0\"\n",
    "SAX_ADMIN_SERVER_IMAGE_URL=f'{SAX_ADMIN_SERVER_IMAGE_NAME}:{SAX_VERSION}'\n",
    "SAX_MODEL_SERVER_IMAGE_URL=f'{SAX_MODEL_SERVER_IMAGE_NAME}:{SAX_VERSION}'\n",
    "SAX_UTIL_IMAGE_URL=f'{SAX_UTIL_IMAGE_NAME}:{SAX_VERSION}'\n",
    "SAX_ADMIN_STORAGE_BUCKET='jk-sax-admin-bucket'\n",
    "SAX_DATA_STORAGE_BUCKET='jk-aiml-repository'\n",
    "\n",
    "MODEL_NAME='gptjtokenizedbf16bs32'\n",
    "MODEL_CONFIG_PATH='saxml.server.pax.lm.params.gptj.GPTJ4TokenizedBF16BS32'\n",
    "REPLICA=1"
   ]
  },
  {
   "cell_type": "code",
   "execution_count": 18,
   "metadata": {},
   "outputs": [
    {
     "name": "stdout",
     "output_type": "stream",
     "text": [
      "docker: invalid reference format: repository name must be lowercase.\n",
      "See 'docker run --help'.\n"
     ]
    }
   ],
   "source": [
    "    "
   ]
  },
  {
   "cell_type": "code",
   "execution_count": 14,
   "metadata": {},
   "outputs": [
    {
     "data": {
      "text/plain": [
       "'us-docker.pkg.dev/cloud-tpu-images/inference/sax-util:v1.0.0'"
      ]
     },
     "execution_count": 14,
     "metadata": {},
     "output_type": "execute_result"
    }
   ],
   "source": [
    "SAX_UTIL_IMAGE_URL"
   ]
  },
  {
   "cell_type": "code",
   "execution_count": 17,
   "metadata": {},
   "outputs": [
    {
     "name": "stdout",
     "output_type": "stream",
     "text": [
      "us-docker.pkg.dev/cloud-tpu-images/inference/sax-util:v1.0.0\n"
     ]
    }
   ],
   "source": [
    "! echo {SAX_UTIL_IMAGE_URL} "
   ]
  },
  {
   "cell_type": "code",
   "execution_count": null,
   "metadata": {},
   "outputs": [],
   "source": []
  }
 ],
 "metadata": {
  "kernelspec": {
   "display_name": "base",
   "language": "python",
   "name": "python3"
  },
  "language_info": {
   "codemirror_mode": {
    "name": "ipython",
    "version": 3
   },
   "file_extension": ".py",
   "mimetype": "text/x-python",
   "name": "python",
   "nbconvert_exporter": "python",
   "pygments_lexer": "ipython3",
   "version": "3.10.12"
  }
 },
 "nbformat": 4,
 "nbformat_minor": 2
}
